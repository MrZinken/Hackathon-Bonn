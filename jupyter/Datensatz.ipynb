{
 "cells": [
  {
   "cell_type": "markdown",
   "id": "f9fd9e29",
   "metadata": {},
   "source": [
    "# 🖼️ 1. Datensatz vorbereiten\n",
    "\n",
    "Jede Gruppe erhält einen Ordner mit **Rohbildern**. Diese sollen in [Makesense.ai](https://www.makesense.ai) annotiert werden.\n",
    "\n",
    "## 🔧 Schritt 1: Annotation mit Makesense.ai\n",
    "0. Ladet die Rohbilder mit eurer Gruppennummer unter folgender [URL](https://databox.bonn.de/public/upload-shares/YhXlVGe57thQAg8WUjVlZFNK6z4LORiq) runter\n",
    "1. Öffnet [https://www.makesense.ai](https://www.makesense.ai)\n",
    "2. Bilder hochladen\n",
    "3. Modus: **Segmentation**\n",
    "4. Klasse: z. B. `baum`, `überdachung`\n",
    "5. Export: Format `Pascal VOC Segmentation (PNG masks)`\n",
    "\n",
    "👉 Jetzt bitte eure annotierten Masken und Bilder wieder hochladen. Verwende folgenden Platzhalter:\n"
   ]
  },
  {
   "cell_type": "code",
   "execution_count": null,
   "id": "16a10c72",
   "metadata": {},
   "outputs": [],
   "source": [
    "from pycocotools.coco import COCO\n",
    "import matplotlib.pyplot as plt\n",
    "import matplotlib.patches as patches\n",
    "from PIL import Image\n",
    "import os\n",
    "\n",
    "# 📁 Pfade anpassen\n",
    "images_dir = \"gruppe1/images\"\n",
    "annotations_file = \"gruppe1/annotations.json\"  # COCO JSON-Datei\n",
    "\n",
    "# 🐒 Lade COCO-Annotationen\n",
    "coco = COCO(annotations_file)\n",
    "image_ids = coco.getImgIds()\n",
    "\n",
    "# 🔁 Durch einige Bilder iterieren\n",
    "for img_id in image_ids[:3]:  # Zeige 3 Beispielbilder\n",
    "    img_info = coco.loadImgs(img_id)[0]\n",
    "    img_path = os.path.join(images_dir, img_info['file_name'])\n",
    "\n",
    "    image = Image.open(img_path)\n",
    "    plt.figure(figsize=(8, 8))\n",
    "    plt.imshow(image)\n",
    "    ax = plt.gca()\n",
    "\n",
    "    ann_ids = coco.getAnnIds(imgIds=img_id)\n",
    "    anns = coco.loadAnns(ann_ids)\n",
    "    \n",
    "    for ann in anns:\n",
    "        if 'segmentation' in ann and isinstance(ann['segmentation'], list):\n",
    "            for seg in ann['segmentation']:\n",
    "                poly = np.array(seg).reshape((len(seg) // 2, 2))\n",
    "                patch = patches.Polygon(poly, fill=False, edgecolor='red', linewidth=2)\n",
    "                ax.add_patch(patch)\n",
    "\n",
    "    plt.title(img_info['file_name'])\n",
    "    plt.axis('off')\n",
    "    plt.show()\n"
   ]
  }
 ],
 "metadata": {
  "language_info": {
   "name": "python"
  }
 },
 "nbformat": 4,
 "nbformat_minor": 5
}
